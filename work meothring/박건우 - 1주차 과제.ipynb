{
 "cells": [
  {
   "cell_type": "markdown",
   "metadata": {},
   "source": [
    "0. 빅데이터란 단어의 정의(V3)를 기준으로 설명해주세요.<br>\n",
    "- 데이터에는 텍스트, 음성, 이미지, 영상 등의 형태가 고정된 정형 데이터와 여론, 감정 등의 비정형 데이터가 존재한다. 여기서 빅 데이터는, 3v(volume, variety, velocity) 특성을 갖는 데이터를 말하는데, 각각 대용량, 다양한 형태, 빠른 속도의 입출력을 의미한다.\n",
    "\n",
    "1 supervised learning  un-supervised learning에 개념에 대해 조사해 보시고 그 예를 하나씩 들어주세요<br>\n",
    "- 지도학습은 인간이 컴퓨터에게 데이터의 입력에 관하여 레이블을 다는 작업을 수행하면 컴퓨터가 그것을 학습하는 형태이다. 데이터의 정확도가 높지만 사람이 직접 레이블 작업을 수행해야 하므로 데이터의 양이 한정되어 있다. 반면 비지도학습은 레이블이 되어 있지 않은 데이터에 대하여 학습히는 것인데, 데이터의 양이 풍부하다는 장점이 있다.\n",
    "\n",
    "2.회귀분석의 의미를 설명해주시고, 선형회귀분석과 로지스틱 회귀분석을 조사해보시고 비교해주세요<br>\n",
    "- 회귀분석은, 여러 데이터 간의 관계성을 수학적으로 추정하고 설명하는 것이다. 선형 회귀 분석은 독립 변수에 대하여 종속 변수의 움직임을 예측하고 설명하는 작업을 의미하고, 관계가 선형적이라고 가정한다. 로지스틱 회귀는 선형 회귀에서 모든 인과관계가 선형일 수는 없다는 한계를 보완하기 위하여 정확도가 떨어지는 부분을 보완하기 위해 s자 곡선을 통하여 분류의 정확도를 향상시킨 방법이다.\n",
    "\n",
    "3.빅데이터는 보통 한 컴퓨터로 처리할수 없을 정도의 데이터를 말합니다. 하나의 컴퓨터에서 연산을 할때 장단점과, 여러대의 컴퓨터로 분산컴퓨팅을 통해 장단점을 조사하고 이둘을 비교해주세요.\n",
    "결론적으로 어떤게 좋은지 의견도 내주세요.<br>\n",
    "- 한 컴퓨터에서 연산을 처리하면, 다른 컴퓨터가 필요 없어서 연산 솔루션을 구성하기 용이하다는 단점이 있지만, 단일 컴퓨터에서 성능을 향상시키는 데 분리하고 컴퓨터에 오작동이 발생하면 전체 시스템이 멈춰버린다는 단점이 있다. 반면 분산 처리를 이용하면 여러 컴퓨터를 사용할 수 있지만 연산의 특성상 한 연산이 끝나기 전에는 다른 작업이 진행될 수 없는 병목 현상이 발생할 우려가 있고, 여러 컴퓨터를 통제하기 위한 솔루션을 구성하는 것은 복잡하다는 단점이 있다. 따라서 처리할 작업과 환경의 특성에 맞추어 연산 환경을 구성해야 한다.\n",
    "  \n"
   ]
  },
  {
   "cell_type": "code",
   "execution_count": 32,
   "metadata": {},
   "outputs": [],
   "source": [
    "# 1번 과제\n",
    "\n",
    "def calc(num1, num2, op):\n",
    "    if op == '+':\n",
    "        return num1 + num2\n",
    "    elif op == '-':\n",
    "        return num1 - num2\n",
    "    elif op == '*':\n",
    "        return num1 * num2\n",
    "    elif op == '/':\n",
    "        return num1 / num2"
   ]
  },
  {
   "cell_type": "markdown",
   "metadata": {},
   "source": [
    "# 2번 과제 - 1\n",
    "- broad cast의 경우 view의 관점에서 설명, numpy에서 broadcast를 하는 이유?<br>\n",
    "- 넘파이의 브로드캐스팅은 행렬의 곱셈과 유사하게, 다른 모양의 배열을 numpy 모듈에서 처리하는 것이다. \n",
    "- 두 배열이 뒤에서부터 대응하는 축의 크기가 동일하거나, 1이어야만 한다.\n",
    "- 효율성의 측면에서 차원 크가기 다른 두 배열에서, 큰 배열에 대하여 작은 배열을 여러 번 반복하지 않아도 되기 때문에 메모리가 더 효율적이다."
   ]
  },
  {
   "cell_type": "code",
   "execution_count": 33,
   "metadata": {},
   "outputs": [
    {
     "data": {
      "text/plain": [
       "[3,\n",
       " 6,\n",
       " 9,\n",
       " 12,\n",
       " 15,\n",
       " 18,\n",
       " 21,\n",
       " 24,\n",
       " 27,\n",
       " 30,\n",
       " 33,\n",
       " 36,\n",
       " 39,\n",
       " 42,\n",
       " 45,\n",
       " 48,\n",
       " 51,\n",
       " 54,\n",
       " 57,\n",
       " 60,\n",
       " 63,\n",
       " 66,\n",
       " 69,\n",
       " 72,\n",
       " 75,\n",
       " 78,\n",
       " 81,\n",
       " 84,\n",
       " 87,\n",
       " 90,\n",
       " 93,\n",
       " 96,\n",
       " 99]"
      ]
     },
     "execution_count": 33,
     "metadata": {},
     "output_type": "execute_result"
    }
   ],
   "source": [
    "# 2번 과제 - 2\n",
    "answer = [num for num in range(1, 101) if num % 3 == 0]\n",
    "answer"
   ]
  },
  {
   "cell_type": "code",
   "execution_count": 34,
   "metadata": {},
   "outputs": [
    {
     "name": "stdout",
     "output_type": "stream",
     "text": [
      "a : 2\n",
      "b : 1\n",
      "d : 1\n"
     ]
    }
   ],
   "source": [
    "# 3번 과제\n",
    "# map 자료형은 반복 가능한 자료형의 요소를 지정된 함수로 처리해주는 함수이고, tuple 자료형은 immutable한 배열을 저장하는 자료형이다.\n",
    "\n",
    "def strSplit(strr):\n",
    "    return list(strr)\n",
    "\n",
    "def listCnt(li):\n",
    "    li.sort()\n",
    "    cntli = [li.count(ele) for ele in list(set(li))]\n",
    "    keyli = set(li)\n",
    "    map = dict(zip(keyli, cntli))\n",
    "    answer = list(list(zip(map.keys(),map.values())))\n",
    "    answer = [list(ele) for ele in answer]\n",
    "    return answer\n",
    "        \n",
    "def printer(list):\n",
    "    for ele in list:\n",
    "        print(\"{} : {}\".format(ele[0], ele[1]))\n",
    "\n",
    "printer([['a', 2], ['b', 1], ['d', 1]])"
   ]
  },
  {
   "cell_type": "code",
   "execution_count": 35,
   "metadata": {},
   "outputs": [
    {
     "data": {
      "text/plain": [
       "' numpy는 python에서 자주 사용되는 수치연산 라이브러리를 c언어로 작성 후에 묶어서 사용할 수 있게 한 것으로 c로 이루어져 python 대비 속도가 빠르다.\\n    import numpy as np라는 자주 사용되는 키워드를 이용하여 코드에서 import하고 np.array() 등의 함수와 shapes라는 numpy의 자료형으로 이루어져 있다.\\n    matplotlib는 그래프 numpy 등으로 생성된 그래프를 시각화하기 위한 라이브러리이다\\n    pandas는 파이썬 언어로 작성된 데이터의 분석 및 조작을 위한 라이브러리로 csv나 엑셀 등의 수치형 테이블이나 시계열 데이터를 다루기 위한 라이브러리로, dataframe이라는 자체 구조를 사용한다'"
      ]
     },
     "execution_count": 35,
     "metadata": {},
     "output_type": "execute_result"
    }
   ],
   "source": [
    "# 4번\n",
    "''' numpy는 python에서 자주 사용되는 수치연산 라이브러리를 c언어로 작성 후에 묶어서 사용할 수 있게 한 것으로 c로 이루어져 python 대비 속도가 빠르다.\n",
    "    import numpy as np라는 자주 사용되는 키워드를 이용하여 코드에서 import하고 np.array() 등의 함수와 shapes라는 numpy의 자료형으로 이루어져 있다.\n",
    "    matplotlib는 그래프 numpy 등으로 생성된 그래프를 시각화하기 위한 라이브러리이다\n",
    "    pandas는 파이썬 언어로 작성된 데이터의 분석 및 조작을 위한 라이브러리로 csv나 엑셀 등의 수치형 테이블이나 시계열 데이터를 다루기 위한 라이브러리로, dataframe이라는 자체 구조를 사용한다'''\n",
    "\n"
   ]
  },
  {
   "cell_type": "code",
   "execution_count": 47,
   "metadata": {},
   "outputs": [],
   "source": [
    "import numpy as np\n",
    "from random import randint"
   ]
  },
  {
   "cell_type": "code",
   "execution_count": 48,
   "metadata": {},
   "outputs": [
    {
     "name": "stdout",
     "output_type": "stream",
     "text": [
      "Wall time: 0 ns\n"
     ]
    }
   ],
   "source": [
    "%time\n",
    "normal_list = [randint(0, 1000000) for _ in range(1000000)]"
   ]
  },
  {
   "cell_type": "code",
   "execution_count": 49,
   "metadata": {},
   "outputs": [
    {
     "name": "stdout",
     "output_type": "stream",
     "text": [
      "Wall time: 0 ns\n"
     ]
    }
   ],
   "source": [
    "%time\n",
    "numpy_list = np.random.rand(1000000)"
   ]
  }
 ],
 "metadata": {
  "interpreter": {
   "hash": "b3ba2566441a7c06988d0923437866b63cedc61552a5af99d1f4fb67d367b25f"
  },
  "kernelspec": {
   "display_name": "Python 3.8.8 64-bit ('base': conda)",
   "language": "python",
   "name": "python3"
  },
  "language_info": {
   "codemirror_mode": {
    "name": "ipython",
    "version": 3
   },
   "file_extension": ".py",
   "mimetype": "text/x-python",
   "name": "python",
   "nbconvert_exporter": "python",
   "pygments_lexer": "ipython3",
   "version": "3.8.8"
  },
  "orig_nbformat": 4
 },
 "nbformat": 4,
 "nbformat_minor": 2
}
